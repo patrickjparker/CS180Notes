{
  "nbformat": 4,
  "nbformat_minor": 0,
  "metadata": {
    "colab": {
      "provenance": [],
      "authorship_tag": "ABX9TyPFRrK1H015F7Pc8f6cI9j4",
      "include_colab_link": true
    },
    "kernelspec": {
      "name": "python3",
      "display_name": "Python 3"
    },
    "language_info": {
      "name": "python"
    }
  },
  "cells": [
    {
      "cell_type": "markdown",
      "metadata": {
        "id": "view-in-github",
        "colab_type": "text"
      },
      "source": [
        "<a href=\"https://colab.research.google.com/github/patrickjparker/CS180Notes/blob/main/introToMachineLearning.ipynb\" target=\"_parent\"><img src=\"https://colab.research.google.com/assets/colab-badge.svg\" alt=\"Open In Colab\"/></a>"
      ]
    },
    {
      "cell_type": "markdown",
      "source": [
        "Machine learning paradigms:\n",
        " - Supervised (inputs and outputs labeled. Organized data)\n",
        "  - Given {(x<sub>i</sub>, y<sub>i</sub> | i = 1..N}\n",
        "  - Predict p(x<sub>i</sub> | y<sub>i</sub> , Θ)\n",
        " - Unsupervised (given pile of data)\n",
        "  - Given {(x<sub>i</sub> | i = 1..N}\n",
        "  - Predict p(x<sub>i</sub> | Θ)\n",
        " - Semi supervised (mix of upper two)\n",
        " - Self-supervised (Language processig models)\n",
        " - Reinforcement learning (pavlovs rule)\n",
        " - Active learning (human in loop)\n",
        "\n",
        "ML workflow (supervised)\n",
        "\n",
        "Put labels and input in machine learning algorithm, use algorithm to create predictive model, pass in new data to get expected label\n",
        "\n",
        "Classification problem: predict discrete label\n",
        "\n",
        "Regression: predict answer of continuous variables\n",
        "\n",
        "Ranking: comparing items\n",
        "\n"
      ],
      "metadata": {
        "id": "hlfVu5tmno4H"
      }
    },
    {
      "cell_type": "code",
      "execution_count": null,
      "metadata": {
        "id": "Rd_sf9ASnhD7",
        "colab": {
          "base_uri": "https://localhost:8080/"
        },
        "outputId": "70fea5a1-9c68-4ea9-9335-1e3a5d70d458"
      },
      "outputs": [
        {
          "output_type": "stream",
          "name": "stdout",
          "text": [
            "3.0\n"
          ]
        }
      ],
      "source": [
        "x = 3\n",
        "print(f\"{x:.1f}\") # Use on python lab"
      ]
    },
    {
      "cell_type": "markdown",
      "source": [
        "### Embedding\n",
        "\n",
        "PCA - Principle Component Analysis\n",
        "\n",
        "Find the axises of a dataset\n",
        "For example, dataset that is almost a line (Almost 1 dimention but in 2D space)\n",
        "Allows you to pull out that main component\n",
        "\n",
        "Could be work also in more dimentions and if the the data is non-linear\n",
        "\n",
        "Well NLDR is PCA but non-linear\n",
        "\n",
        "word2vec!!!"
      ],
      "metadata": {
        "id": "FY1XbDjt9q5k"
      }
    },
    {
      "cell_type": "code",
      "source": [],
      "metadata": {
        "id": "oTkm24MgCjjo"
      },
      "execution_count": null,
      "outputs": []
    }
  ]
}